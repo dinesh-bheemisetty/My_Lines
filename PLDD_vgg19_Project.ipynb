{
  "cells": [
    {
      "cell_type": "markdown",
      "metadata": {
        "id": "xWsvqVqjpFAZ"
      },
      "source": [
        "*  CLASSES = 4\n",
        "*   MODEL = VGG19\n",
        "\n",
        "*  ACTIVATION FUNCTION = ReLU\n",
        "\n",
        "* OUTPUTFUNCTION = SOFTMAX\n",
        "\n",
        "\n",
        "*   LOSS FUNCTION = CATOGIRICAL CROSS ENTROPY\n",
        "\n",
        "\n",
        "\n",
        "\n"
      ]
    },
    {
      "cell_type": "code",
      "execution_count": null,
      "metadata": {
        "colab": {
          "base_uri": "https://localhost:8080/"
        },
        "id": "GC0-od28OH2a",
        "outputId": "2b7e6eb8-67d4-4020-9d79-da11461bf1c9"
      },
      "outputs": [
        {
          "output_type": "stream",
          "name": "stdout",
          "text": [
            "Drive already mounted at /content/drive; to attempt to forcibly remount, call drive.mount(\"/content/drive\", force_remount=True).\n"
          ]
        }
      ],
      "source": [
        "from google.colab import drive\n",
        "drive.mount('/content/drive')"
      ]
    },
    {
      "cell_type": "code",
      "execution_count": null,
      "metadata": {
        "id": "d7tAgeyTDVZy"
      },
      "outputs": [],
      "source": [
        "import keras\n",
        "from keras import backend as K\n",
        "from keras.layers.core import Dense, Activation\n",
        "from tensorflow.keras.optimizers import Adam\n",
        "from keras.metrics import categorical_crossentropy\n",
        "from keras.preprocessing.image import ImageDataGenerator\n",
        "#from keras.preprocessing import image\n",
        "\n",
        "\n",
        "#from tensorflow.keras.utils import load_img\n",
        "from tensorflow.keras.preprocessing.image import load_img, img_to_array\n",
        "from keras.models import Model\n",
        "from keras.applications import imagenet_utils\n",
        "from keras.layers import Dense,GlobalAveragePooling2D\n",
        "from tensorflow.keras.applications import VGG19\n",
        "from keras.applications.mobilenet import preprocess_input\n",
        "import numpy as np\n",
        "from IPython.display import Image"
      ]
    },
    {
      "cell_type": "code",
      "execution_count": null,
      "metadata": {
        "id": "MYYfoHyqDNvT"
      },
      "outputs": [],
      "source": [
        "\n",
        "from __future__ import absolute_import, division, print_function, unicode_literals\n",
        "\n",
        "\n",
        "import tensorflow as tf\n",
        "#tf.logging.set_verbosity(tf.logging.ERROR)\n",
        "#tf.enable_eager_execution()\n",
        "\n",
        "import tensorflow_hub as hub\n",
        "import os\n",
        "from tensorflow.keras.layers import Dense, Flatten, Conv2D\n",
        "from tensorflow.keras import Model\n",
        "from tensorflow.keras.preprocessing.image import ImageDataGenerator\n",
        "from tensorflow.keras.optimizers import Adam\n",
        "from tensorflow.keras import layers\n",
        "import matplotlib.pyplot as plt\n",
        "#from keras import optimizers"
      ]
    },
    {
      "cell_type": "code",
      "execution_count": null,
      "metadata": {
        "colab": {
          "base_uri": "https://localhost:8080/"
        },
        "id": "dj1FU1PNCWZB",
        "outputId": "d7da152f-bcda-4723-8ea7-faad2f7e6340"
      },
      "outputs": [
        {
          "output_type": "stream",
          "name": "stdout",
          "text": [
            "/content/images\n"
          ]
        }
      ],
      "source": [
        "import os\n",
        "img_path = os.getcwd() + r'/images'\n",
        "print(img_path)"
      ]
    },
    {
      "cell_type": "code",
      "execution_count": null,
      "metadata": {
        "id": "4-IzLpiQC4cr"
      },
      "outputs": [],
      "source": [
        "base_dir = os.getcwd()+r'/content/drive/MyDrive/RLD_updated'\n",
        "train_dir = os.path.join('/content/drive/MyDrive/RLD_updated/Train')\n",
        "validation_dir = os.path.join('/content/drive/MyDrive/RLD_updated/Val')\n",
        "test_dir = os.path.join('/content/drive/MyDrive/RLD_updated/Test')\n",
        "\n",
        "train_Blast_dir = os.path.join(train_dir, 'Blast')\n",
        "train_Blight_dir = os.path.join(train_dir, 'Blight')\n",
        "train_Brownspot_dir = os.path.join(train_dir, 'Brownspot')\n",
        "train_Tungro_dir = os.path.join(train_dir, 'Tungro')\n",
        "\n",
        "\n",
        "validation_Blast_dir = os.path.join(validation_dir, 'Blast')\n",
        "validation_Blight_dir = os.path.join(validation_dir, 'Blight')\n",
        "validation_Brownspot_dir = os.path.join(validation_dir, 'Brownspot')\n",
        "validation_Tungro_dir = os.path.join(validation_dir, 'Tungro')\n",
        "\n",
        "\n",
        "\n",
        "\n",
        "\n",
        "\n",
        "\n",
        "NUMBER_OF_CLASS = 4"
      ]
    },
    {
      "cell_type": "code",
      "execution_count": null,
      "metadata": {
        "id": "D3W4fAhbDdSJ"
      },
      "outputs": [],
      "source": [
        "IMAGE_SIZE = (224, 224)\n",
        "def prepare_image(file):\n",
        "    img = image.load_img(file, target_size=IMAGE_SIZE)\n",
        "    img_array = image.img_to_array(img)\n",
        "    img_array_expanded_dims = np.expand_dims(img_array, axis=0)\n",
        "    return keras.applications.mobilenet.preprocess_input(img_array_expanded_dims)"
      ]
    },
    {
      "cell_type": "code",
      "execution_count": null,
      "metadata": {
        "id": "PbramPJaDhFG"
      },
      "outputs": [],
      "source": [
        "from keras.preprocessing import image\n",
        "def load_image(img_path, show=False):\n",
        "\n",
        "    img = image.load_img(img_path, target_size=IMAGE_SIZE)\n",
        "    img_tensor = image.img_to_array(img)                    # (height, width, channels)\n",
        "    img_tensor = np.expand_dims(img_tensor, axis=0)         # (1, height, width, channels), add a dimension because the model expects this shape: (batch_size, height, width, channels)\n",
        "    img_tensor /= 255.                                      # imshow expects values in the range [0, 1]\n",
        "\n",
        "    if show:\n",
        "        plt.imshow(img_tensor[0])\n",
        "        plt.axis('off')\n",
        "        plt.show()\n",
        "\n",
        "    return img_tensor"
      ]
    },
    {
      "cell_type": "code",
      "execution_count": null,
      "metadata": {
        "id": "Tr3MoFyfDrTN"
      },
      "outputs": [],
      "source": [
        "IMAGE_SIZE = (224, 224)\n",
        "def prepare_image(file):\n",
        "    img = image.load_img(file, target_size=IMAGE_SIZE)\n",
        "    img_array = image.img_to_array(img)\n",
        "    img_array_expanded_dims = np.expand_dims(img_array, axis=0)\n",
        "    return keras.applications.mobislenet.preprocess_input(img_array_expanded_dims)"
      ]
    },
    {
      "cell_type": "code",
      "execution_count": null,
      "metadata": {
        "colab": {
          "base_uri": "https://localhost:8080/"
        },
        "id": "6JZCfE5AD1qW",
        "outputId": "24b8c8fe-5d76-46a4-9d9a-58224cd6e939"
      },
      "outputs": [
        {
          "output_type": "stream",
          "name": "stdout",
          "text": [
            "Downloading data from https://storage.googleapis.com/tensorflow/keras-applications/vgg19/vgg19_weights_tf_dim_ordering_tf_kernels_notop.h5\n",
            "80134624/80134624 [==============================] - 0s 0us/step\n"
          ]
        }
      ],
      "source": [
        "#imports the mobilenet model and discards the last 1000 neuron layer.\n",
        "base_model=VGG19(weights='imagenet',include_top=False, input_shape=(224,224,3))\n",
        "\n"
      ]
    },
    {
      "cell_type": "code",
      "execution_count": null,
      "metadata": {
        "id": "Ym7FutduBO9W"
      },
      "outputs": [],
      "source": [
        "for layer in base_model.layers:\n",
        "  layer.trainable = False"
      ]
    },
    {
      "cell_type": "code",
      "execution_count": null,
      "metadata": {
        "id": "1KSi3PUOBZyu"
      },
      "outputs": [],
      "source": [
        "#base_model.summary()"
      ]
    },
    {
      "cell_type": "code",
      "execution_count": null,
      "metadata": {
        "id": "-_4ubOeLBkO2"
      },
      "outputs": [],
      "source": [
        "x= Flatten()(base_model.output)\n",
        "\n",
        "x=  Dense(units = 4, activation = 'softmax')(x)\n",
        "\n",
        "#creating model\n",
        "model = Model(base_model.input, x)"
      ]
    },
    {
      "cell_type": "code",
      "execution_count": null,
      "metadata": {
        "colab": {
          "base_uri": "https://localhost:8080/"
        },
        "id": "uU_my2xdCCPf",
        "outputId": "7312cb0c-851c-45eb-debd-f9c488035b62"
      },
      "outputs": [
        {
          "output_type": "stream",
          "name": "stdout",
          "text": [
            "Model: \"model\"\n",
            "_________________________________________________________________\n",
            " Layer (type)                Output Shape              Param #   \n",
            "=================================================================\n",
            " input_1 (InputLayer)        [(None, 224, 224, 3)]     0         \n",
            "                                                                 \n",
            " block1_conv1 (Conv2D)       (None, 224, 224, 64)      1792      \n",
            "                                                                 \n",
            " block1_conv2 (Conv2D)       (None, 224, 224, 64)      36928     \n",
            "                                                                 \n",
            " block1_pool (MaxPooling2D)  (None, 112, 112, 64)      0         \n",
            "                                                                 \n",
            " block2_conv1 (Conv2D)       (None, 112, 112, 128)     73856     \n",
            "                                                                 \n",
            " block2_conv2 (Conv2D)       (None, 112, 112, 128)     147584    \n",
            "                                                                 \n",
            " block2_pool (MaxPooling2D)  (None, 56, 56, 128)       0         \n",
            "                                                                 \n",
            " block3_conv1 (Conv2D)       (None, 56, 56, 256)       295168    \n",
            "                                                                 \n",
            " block3_conv2 (Conv2D)       (None, 56, 56, 256)       590080    \n",
            "                                                                 \n",
            " block3_conv3 (Conv2D)       (None, 56, 56, 256)       590080    \n",
            "                                                                 \n",
            " block3_conv4 (Conv2D)       (None, 56, 56, 256)       590080    \n",
            "                                                                 \n",
            " block3_pool (MaxPooling2D)  (None, 28, 28, 256)       0         \n",
            "                                                                 \n",
            " block4_conv1 (Conv2D)       (None, 28, 28, 512)       1180160   \n",
            "                                                                 \n",
            " block4_conv2 (Conv2D)       (None, 28, 28, 512)       2359808   \n",
            "                                                                 \n",
            " block4_conv3 (Conv2D)       (None, 28, 28, 512)       2359808   \n",
            "                                                                 \n",
            " block4_conv4 (Conv2D)       (None, 28, 28, 512)       2359808   \n",
            "                                                                 \n",
            " block4_pool (MaxPooling2D)  (None, 14, 14, 512)       0         \n",
            "                                                                 \n",
            " block5_conv1 (Conv2D)       (None, 14, 14, 512)       2359808   \n",
            "                                                                 \n",
            " block5_conv2 (Conv2D)       (None, 14, 14, 512)       2359808   \n",
            "                                                                 \n",
            " block5_conv3 (Conv2D)       (None, 14, 14, 512)       2359808   \n",
            "                                                                 \n",
            " block5_conv4 (Conv2D)       (None, 14, 14, 512)       2359808   \n",
            "                                                                 \n",
            " block5_pool (MaxPooling2D)  (None, 7, 7, 512)         0         \n",
            "                                                                 \n",
            " flatten (Flatten)           (None, 25088)             0         \n",
            "                                                                 \n",
            " dense (Dense)               (None, 4)                 100356    \n",
            "                                                                 \n",
            "=================================================================\n",
            "Total params: 20,124,740\n",
            "Trainable params: 100,356\n",
            "Non-trainable params: 20,024,384\n",
            "_________________________________________________________________\n"
          ]
        }
      ],
      "source": [
        "model.summary()"
      ]
    },
    {
      "cell_type": "markdown",
      "metadata": {
        "id": "KWP73Xo2CMen"
      },
      "source": [
        "early stopping"
      ]
    },
    {
      "cell_type": "code",
      "execution_count": null,
      "metadata": {
        "id": "7Vag5uqLEHwS"
      },
      "outputs": [],
      "source": [
        "model.compile(optimizer='Adam',loss='categorical_crossentropy',metrics=['accuracy'])"
      ]
    },
    {
      "cell_type": "code",
      "execution_count": null,
      "metadata": {
        "id": "PX_16JIcCPsm"
      },
      "outputs": [],
      "source": [
        "from keras.callbacks import ModelCheckpoint, EarlyStopping\n",
        "\n",
        "es = EarlyStopping(monitor = 'val_accuracy', min_delta = 0.01, patience = 3, verbose =1)\n",
        "\n",
        "mc = ModelCheckpoint(filepath = \"/content/drive/MyDrive/vgg_weights/vgg19_weights.h5\",   #best_model.h5\n",
        "                      moniter = 'val_accuracy',\n",
        "                      min_delta = 0.01,\n",
        "                      patience = 3,\n",
        "                      verbose= 1,\n",
        "                      save_best_only = True)\n",
        "\n",
        "cb = [es, mc]"
      ]
    },
    {
      "cell_type": "code",
      "execution_count": null,
      "metadata": {
        "colab": {
          "base_uri": "https://localhost:8080/"
        },
        "id": "zeLGQcfDEOH5",
        "outputId": "41667c12-a00b-4989-c285-325a8c884d2e"
      },
      "outputs": [
        {
          "output_type": "stream",
          "name": "stdout",
          "text": [
            "Found 4772 images belonging to 4 classes.\n",
            "Found 584 images belonging to 4 classes.\n"
          ]
        }
      ],
      "source": [
        "BATCH_SIZE = 32\n",
        "\n",
        "# Adding rescale, rotation_range, width_shift_range, height_shift_range,\n",
        "# shear_range, zoom_range, and horizontal flip to our ImageDataGenerator\n",
        "train_datagen = ImageDataGenerator(\n",
        "    rescale=1./255,\n",
        "    rotation_range=30, ###40,\n",
        "    width_shift_range=0.1, ###0.2,\n",
        "    height_shift_range=0.1, ###0.2,\n",
        "    shear_range=0.2,\n",
        "    zoom_range=0.2,\n",
        "    horizontal_flip=True,)\n",
        "\n",
        "# Note that the val data should not be augmented!\n",
        "test_datagen= ImageDataGenerator    (rescale=1./255)\n",
        "\n",
        "# Flow training images in batches using train_datagen generator\n",
        "train_generator = train_datagen.flow_from_directory(\n",
        "        train_dir,  # This is the source directory for training images\n",
        "        target_size=IMAGE_SIZE,\n",
        "        batch_size=BATCH_SIZE,\n",
        "        # Since we use binary_crossentropy loss, we need binary labels\n",
        "        class_mode='categorical',\n",
        "        shuffle=True)\n",
        "\n",
        "# Flow validation images in batches using test_datagen generator\n",
        "validation_generator = test_datagen.flow_from_directory(\n",
        "        validation_dir,\n",
        "        target_size=IMAGE_SIZE,\n",
        "        batch_size=BATCH_SIZE,\n",
        "        class_mode='categorical',\n",
        "        shuffle=True)"
      ]
    },
    {
      "cell_type": "code",
      "execution_count": null,
      "metadata": {
        "colab": {
          "base_uri": "https://localhost:8080/"
        },
        "id": "mQP8vdtHFO6R",
        "outputId": "01d9e040-3899-4be4-d1b0-f09fc9cbf34e"
      },
      "outputs": [
        {
          "output_type": "stream",
          "name": "stderr",
          "text": [
            "<ipython-input-18-12ca4646da0a>:1: UserWarning: `Model.fit_generator` is deprecated and will be removed in a future version. Please use `Model.fit`, which supports generators.\n",
            "  his = model.fit_generator(train_generator,\n"
          ]
        },
        {
          "output_type": "stream",
          "name": "stdout",
          "text": [
            "Epoch 1/10\n",
            "16/16 [==============================] - ETA: 0s - loss: 1.7711 - accuracy: 0.4590\n",
            "Epoch 1: val_loss improved from inf to 1.01324, saving model to /content/drive/MyDrive/vgg_weights/vgg19_weights.h5\n",
            "16/16 [==============================] - 227s 13s/step - loss: 1.7711 - accuracy: 0.4590 - val_loss: 1.0132 - val_accuracy: 0.6152\n",
            "Epoch 2/10\n",
            "16/16 [==============================] - ETA: 0s - loss: 0.9265 - accuracy: 0.6562\n",
            "Epoch 2: val_loss improved from 1.01324 to 0.65158, saving model to /content/drive/MyDrive/vgg_weights/vgg19_weights.h5\n",
            "16/16 [==============================] - 91s 6s/step - loss: 0.9265 - accuracy: 0.6562 - val_loss: 0.6516 - val_accuracy: 0.7559\n",
            "Epoch 3/10\n",
            "16/16 [==============================] - ETA: 0s - loss: 0.6046 - accuracy: 0.7754\n",
            "Epoch 3: val_loss improved from 0.65158 to 0.57167, saving model to /content/drive/MyDrive/vgg_weights/vgg19_weights.h5\n",
            "16/16 [==============================] - 75s 5s/step - loss: 0.6046 - accuracy: 0.7754 - val_loss: 0.5717 - val_accuracy: 0.7734\n",
            "Epoch 4/10\n",
            "16/16 [==============================] - ETA: 0s - loss: 0.5018 - accuracy: 0.8047\n",
            "Epoch 4: val_loss improved from 0.57167 to 0.41359, saving model to /content/drive/MyDrive/vgg_weights/vgg19_weights.h5\n",
            "16/16 [==============================] - 64s 4s/step - loss: 0.5018 - accuracy: 0.8047 - val_loss: 0.4136 - val_accuracy: 0.8203\n",
            "Epoch 5/10\n",
            "16/16 [==============================] - ETA: 0s - loss: 0.4282 - accuracy: 0.8359\n",
            "Epoch 5: val_loss improved from 0.41359 to 0.37611, saving model to /content/drive/MyDrive/vgg_weights/vgg19_weights.h5\n",
            "16/16 [==============================] - 61s 4s/step - loss: 0.4282 - accuracy: 0.8359 - val_loss: 0.3761 - val_accuracy: 0.8594\n",
            "Epoch 6/10\n",
            "16/16 [==============================] - ETA: 0s - loss: 0.4301 - accuracy: 0.8379\n",
            "Epoch 6: val_loss improved from 0.37611 to 0.34314, saving model to /content/drive/MyDrive/vgg_weights/vgg19_weights.h5\n",
            "16/16 [==============================] - 55s 3s/step - loss: 0.4301 - accuracy: 0.8379 - val_loss: 0.3431 - val_accuracy: 0.8652\n",
            "Epoch 7/10\n",
            "16/16 [==============================] - ETA: 0s - loss: 0.3995 - accuracy: 0.8438\n",
            "Epoch 7: val_loss did not improve from 0.34314\n",
            "16/16 [==============================] - 46s 3s/step - loss: 0.3995 - accuracy: 0.8438 - val_loss: 0.3645 - val_accuracy: 0.8672\n",
            "Epoch 8/10\n",
            "16/16 [==============================] - ETA: 0s - loss: 0.3840 - accuracy: 0.8574\n",
            "Epoch 8: val_loss improved from 0.34314 to 0.33491, saving model to /content/drive/MyDrive/vgg_weights/vgg19_weights.h5\n",
            "16/16 [==============================] - 47s 3s/step - loss: 0.3840 - accuracy: 0.8574 - val_loss: 0.3349 - val_accuracy: 0.8730\n",
            "Epoch 9/10\n",
            "16/16 [==============================] - ETA: 0s - loss: 0.2988 - accuracy: 0.8867\n",
            "Epoch 9: val_loss improved from 0.33491 to 0.28140, saving model to /content/drive/MyDrive/vgg_weights/vgg19_weights.h5\n",
            "16/16 [==============================] - 46s 3s/step - loss: 0.2988 - accuracy: 0.8867 - val_loss: 0.2814 - val_accuracy: 0.9004\n",
            "Epoch 10/10\n",
            "16/16 [==============================] - ETA: 0s - loss: 0.3596 - accuracy: 0.8594\n",
            "Epoch 10: val_loss did not improve from 0.28140\n",
            "16/16 [==============================] - 35s 2s/step - loss: 0.3596 - accuracy: 0.8594 - val_loss: 0.3043 - val_accuracy: 0.8945\n"
          ]
        }
      ],
      "source": [
        "his = model.fit_generator(train_generator,\n",
        "                          steps_per_epoch = 16,\n",
        "                          epochs = 10,\n",
        "                          verbose =1,\n",
        "                          callbacks = cb,\n",
        "                          validation_data = validation_generator,\n",
        "                          validation_steps = 16)"
      ]
    },
    {
      "cell_type": "code",
      "execution_count": null,
      "metadata": {
        "id": "bB_lYj43vfMV",
        "colab": {
          "base_uri": "https://localhost:8080/",
          "height": 201
        },
        "outputId": "a7597818-4966-48d9-d0ae-b01e6ea07a6c"
      },
      "outputs": [
        {
          "output_type": "error",
          "ename": "NameError",
          "evalue": "ignored",
          "traceback": [
            "\u001b[0;31m---------------------------------------------------------------------------\u001b[0m",
            "\u001b[0;31mNameError\u001b[0m                                 Traceback (most recent call last)",
            "\u001b[0;32m<ipython-input-19-e905ec2b4738>\u001b[0m in \u001b[0;36m<cell line: 4>\u001b[0;34m()\u001b[0m\n\u001b[1;32m      2\u001b[0m \u001b[0mh\u001b[0m\u001b[0;34m.\u001b[0m\u001b[0mkeys\u001b[0m\u001b[0;34m(\u001b[0m\u001b[0;34m)\u001b[0m\u001b[0;34m\u001b[0m\u001b[0;34m\u001b[0m\u001b[0m\n\u001b[1;32m      3\u001b[0m \u001b[0;34m\u001b[0m\u001b[0m\n\u001b[0;32m----> 4\u001b[0;31m \u001b[0mdict_keys\u001b[0m\u001b[0;34m(\u001b[0m\u001b[0;34m[\u001b[0m\u001b[0;34m'loss'\u001b[0m\u001b[0;34m,\u001b[0m \u001b[0;34m'accuracy'\u001b[0m\u001b[0;34m,\u001b[0m \u001b[0;34m'val_loss'\u001b[0m\u001b[0;34m,\u001b[0m \u001b[0;34m'val_accuracay'\u001b[0m\u001b[0;34m]\u001b[0m\u001b[0;34m)\u001b[0m\u001b[0;34m\u001b[0m\u001b[0;34m\u001b[0m\u001b[0m\n\u001b[0m",
            "\u001b[0;31mNameError\u001b[0m: name 'dict_keys' is not defined"
          ]
        }
      ],
      "source": [
        "h = his.history\n",
        "h.keys()\n",
        "\n",
        "dict_keys(['loss', 'accuracy', 'val_loss', 'val_accuracay'])"
      ]
    },
    {
      "cell_type": "code",
      "execution_count": null,
      "metadata": {
        "colab": {
          "base_uri": "https://localhost:8080/",
          "height": 452
        },
        "id": "BXepGXR7Nb95",
        "outputId": "d03e79fb-038d-480e-b567-916377914242"
      },
      "outputs": [
        {
          "output_type": "display_data",
          "data": {
            "text/plain": [
              "<Figure size 640x480 with 1 Axes>"
            ],
            "image/png": "[encoded data removed]"
          },
          "metadata": {}
        }
      ],
      "source": [
        "plt.plot(h['accuracy'])\n",
        "plt.plot(h['val_accuracy'], c = 'red')\n",
        "plt.title(\"acc vs v_acc\")\n",
        "plt.show()"
      ]
    },
    {
      "cell_type": "code",
      "execution_count": null,
      "metadata": {
        "id": "5IGYF1MtN6cA",
        "colab": {
          "base_uri": "https://localhost:8080/",
          "height": 452
        },
        "outputId": "5b84d801-859d-4c13-db98-5d210ad1ff2a"
      },
      "outputs": [
        {
          "output_type": "display_data",
          "data": {
            "text/plain": [
              "<Figure size 640x480 with 1 Axes>"
            ],
            "image/png": "[encoded data removed]"
          },
          "metadata": {}
        }
      ],
      "source": [
        "plt.plot(h['loss'])\n",
        "plt.plot(h['val_loss'], c = 'red')\n",
        "plt.title(\"loss vs v_loss\")\n",
        "plt.show()"
      ]
    },
    {
      "cell_type": "code",
      "execution_count": null,
      "metadata": {
        "id": "41hPJ9deO5nM"
      },
      "outputs": [],
      "source": [
        "#load best model\n",
        "\n",
        "from keras.models import load_model\n",
        "\n",
        "model = load_model(\"/content/drive/MyDrive/vgg_weights/vgg19_weights.h5\")  #/content/best_model.h5"
      ]
    },
    {
      "cell_type": "code",
      "execution_count": null,
      "metadata": {
        "id": "JikeKFXGPYNT",
        "colab": {
          "base_uri": "https://localhost:8080/"
        },
        "outputId": "53257949-4b4a-4d5d-8518-3fc89544bd8f"
      },
      "outputs": [
        {
          "output_type": "stream",
          "name": "stderr",
          "text": [
            "<ipython-input-23-15e8458f0d76>:1: UserWarning: `Model.evaluate_generator` is deprecated and will be removed in a future version. Please use `Model.evaluate`, which supports generators.\n",
            "  acc = model.evaluate_generator(validation_generator)[1]\n"
          ]
        },
        {
          "output_type": "stream",
          "name": "stdout",
          "text": [
            "the accuracy of model is = 90.75342416763306%\n"
          ]
        }
      ],
      "source": [
        "acc = model.evaluate_generator(validation_generator)[1]\n",
        "\n",
        "print(f\"the accuracy of model is = {acc*100}%\")"
      ]
    },
    {
      "cell_type": "code",
      "execution_count": null,
      "metadata": {
        "id": "Qn7xnWe1QOrD",
        "colab": {
          "base_uri": "https://localhost:8080/"
        },
        "outputId": "a98c7df1-e452-4000-8898-c70bd42e3b9b"
      },
      "outputs": [
        {
          "output_type": "stream",
          "name": "stdout",
          "text": [
            "0\n",
            "/content/drive/MyDrive/RLD_updated/Test\n"
          ]
        }
      ],
      "source": [
        "import glob\n",
        "list_of_files = glob.glob(test_dir+'/*.jpg')           # create the list of file from test directory\n",
        "print(len(list_of_files))\n",
        "print(test_dir)"
      ]
    },
    {
      "cell_type": "code",
      "execution_count": null,
      "metadata": {
        "id": "LaRqam3dQZOp"
      },
      "outputs": [],
      "source": [
        "class_names=['Blast', 'Blight' , 'Brownspot' , 'Tungro']"
      ]
    },
    {
      "cell_type": "code",
      "execution_count": null,
      "metadata": {
        "id": "jq_vtOkwQC5C",
        "colab": {
          "base_uri": "https://localhost:8080/",
          "height": 305
        },
        "outputId": "c1767866-4e24-4edf-ff27-3591841e38fd"
      },
      "outputs": [
        {
          "output_type": "error",
          "ename": "ValueError",
          "evalue": "ignored",
          "traceback": [
            "\u001b[0;31m---------------------------------------------------------------------------\u001b[0m",
            "\u001b[0;31mValueError\u001b[0m                                Traceback (most recent call last)",
            "\u001b[0;32m<ipython-input-27-67b590d51901>\u001b[0m in \u001b[0;36m<cell line: 4>\u001b[0;34m()\u001b[0m\n\u001b[1;32m      2\u001b[0m \u001b[0;32mimport\u001b[0m \u001b[0mmatplotlib\u001b[0m\u001b[0;34m.\u001b[0m\u001b[0mpyplot\u001b[0m \u001b[0;32mas\u001b[0m \u001b[0mplt\u001b[0m\u001b[0;34m\u001b[0m\u001b[0;34m\u001b[0m\u001b[0m\n\u001b[1;32m      3\u001b[0m \u001b[0;34m\u001b[0m\u001b[0m\n\u001b[0;32m----> 4\u001b[0;31m \u001b[0mimg_number\u001b[0m\u001b[0;34m=\u001b[0m \u001b[0mint\u001b[0m\u001b[0;34m(\u001b[0m\u001b[0mnp\u001b[0m\u001b[0;34m.\u001b[0m\u001b[0mrandom\u001b[0m\u001b[0;34m.\u001b[0m\u001b[0mrandint\u001b[0m\u001b[0;34m(\u001b[0m\u001b[0;36m0\u001b[0m\u001b[0;34m,\u001b[0m\u001b[0mlen\u001b[0m\u001b[0;34m(\u001b[0m\u001b[0mlist_of_files\u001b[0m\u001b[0;34m)\u001b[0m\u001b[0;34m,\u001b[0m \u001b[0msize\u001b[0m\u001b[0;34m=\u001b[0m\u001b[0;36m1\u001b[0m\u001b[0;34m)\u001b[0m\u001b[0;34m)\u001b[0m\u001b[0;34m\u001b[0m\u001b[0;34m\u001b[0m\u001b[0m\n\u001b[0m\u001b[1;32m      5\u001b[0m \u001b[0mtest_image\u001b[0m\u001b[0;34m=\u001b[0m\u001b[0mlist_of_files\u001b[0m\u001b[0;34m[\u001b[0m\u001b[0mimg_number\u001b[0m\u001b[0;34m]\u001b[0m\u001b[0;34m\u001b[0m\u001b[0;34m\u001b[0m\u001b[0m\n\u001b[1;32m      6\u001b[0m \u001b[0;34m\u001b[0m\u001b[0m\n",
            "\u001b[0;32mmtrand.pyx\u001b[0m in \u001b[0;36mnumpy.random.mtrand.RandomState.randint\u001b[0;34m()\u001b[0m\n",
            "\u001b[0;32m_bounded_integers.pyx\u001b[0m in \u001b[0;36mnumpy.random._bounded_integers._rand_int64\u001b[0;34m()\u001b[0m\n",
            "\u001b[0;31mValueError\u001b[0m: high <= 0"
          ]
        }
      ],
      "source": [
        "# Randomly choose a picture to test your model\n",
        "import matplotlib.pyplot as plt\n",
        "\n",
        "img_number= int(np.random.randint(0,len(list_of_files), size=1))\n",
        "test_image=list_of_files[img_number]\n",
        "\n",
        "new_image = load_img(test_image)\n",
        "new_image = new_image.resize((224, 224))\n",
        "#new_image = Image.open(test_image)\n",
        "#new_image = plt.imread(test_image)\n",
        "img_array = img_to_array(new_image)\n",
        "img_batch = np.expand_dims(img_array, axis=0)\n",
        "pred = model.predict(img_batch)\n",
        "print(pred[0])\n",
        "prediction_result = class_names[np.argmax(pred[0])]\n",
        "print('prediction=',prediction_result)\n",
        "\n",
        "#img = image.load_img(test_image,target_size=IMAGE_SIZE)\n",
        "\n",
        "plt.imshow(new_image)"
      ]
    },
    {
      "cell_type": "code",
      "source": [
        "train_path = '/content/drive/MyDrive/RLD_updated/Train'\n",
        "test_path = '/content/drive/MyDrive/RLD_updated/Test'\n",
        "IMG_BREDTH = 224\n",
        "IMG_HEIGHT = 224\n",
        "num_classes = 4\n",
        "\n",
        "\n",
        "\n",
        "\n",
        "\n",
        "\n",
        "\n",
        "train_batch = ImageDataGenerator(featurewise_center=False,\n",
        "                                 samplewise_center=False,\n",
        "                                 featurewise_std_normalization=False,\n",
        "                                 samplewise_std_normalization=False,\n",
        "                                 zca_whitening=False,\n",
        "                                 rotation_range=45,\n",
        "                                 width_shift_range=0.2,\n",
        "                                 height_shift_range=0.2,\n",
        "                                 horizontal_flip=True,\n",
        "                                 vertical_flip=False).flow_from_directory(train_path,\n",
        "                                                                          target_size=(IMG_HEIGHT, IMG_BREDTH),\n",
        "                                                                          classes=['Blast', 'Blight', 'Brownspot', 'Tungro'],\n",
        "                                                                          batch_size=100)\n",
        "\n",
        "test_batch = ImageDataGenerator().flow_from_directory(test_path,\n",
        "                                                      target_size=(IMG_HEIGHT, IMG_BREDTH),\n",
        "                                                      classes=['Blast', 'Blight', 'Brownspot', 'Tungro'],\n",
        "                                                      batch_size=100)"
      ],
      "metadata": {
        "colab": {
          "base_uri": "https://localhost:8080/"
        },
        "id": "zV0CH0jAx8KK",
        "outputId": "048384b1-af14-42e6-bbbf-6726680627bd"
      },
      "execution_count": null,
      "outputs": [
        {
          "output_type": "stream",
          "name": "stdout",
          "text": [
            "Found 4772 images belonging to 4 classes.\n",
            "Found 576 images belonging to 4 classes.\n"
          ]
        }
      ]
    },
    {
      "cell_type": "code",
      "source": [
        "import sklearn.metrics as metrics # classification_report, confusion_matrix\n",
        "batch_size = 100\n",
        "target_names = ['Blast', 'Blight', 'Brownspot', 'Tungro']\n",
        "Y_pred = model.predict_generator(test_batch, 576 // batch_size+1)\n",
        "y_pred = np.argmax(Y_pred, axis=1)\n",
        "print('Confusion Matrix')\n",
        "cm = metrics.confusion_matrix(test_batch.classes, y_pred)\n",
        "print(cm)\n",
        "print('Classification Report')\n",
        "#print(metrics.classification_report(test_batch.classes, y_pred))"
      ],
      "metadata": {
        "colab": {
          "base_uri": "https://localhost:8080/"
        },
        "id": "jynhod1Ryawq",
        "outputId": "b559a45b-00e7-49b0-9085-cb66f1a32b96"
      },
      "execution_count": null,
      "outputs": [
        {
          "output_type": "stream",
          "name": "stderr",
          "text": [
            "<ipython-input-34-b5b9c36a539d>:4: UserWarning: `Model.predict_generator` is deprecated and will be removed in a future version. Please use `Model.predict`, which supports generators.\n",
            "  Y_pred = model.predict_generator(test_batch, 576 // batch_size+1)\n"
          ]
        },
        {
          "output_type": "stream",
          "name": "stdout",
          "text": [
            "Confusion Matrix\n",
            "[[41 31 31 49]\n",
            " [31 23 39 63]\n",
            " [23 27 34 60]\n",
            " [21 27 29 47]]\n",
            "Classification Report\n"
          ]
        }
      ]
    },
    {
      "cell_type": "code",
      "source": [
        "import seaborn as sns\n",
        "import sklearn.metrics as metrics\n",
        "# To print the Confusion Matrix\n",
        "cf_matrix = metrics.confusion_matrix(test_batch.classes, y_pred)\n",
        "Labels = ['Blast', 'Blight', 'Brownspot', 'Tungro']\n",
        "plt.figure(figsize=(8, 8))\n",
        "heatmap = sns.heatmap(cf_matrix, xticklabels=Labels, yticklabels=Labels, annot=True, fmt='d', color='blue')\n",
        "plt.xlabel('Predicted Class')\n",
        "plt.ylabel('True Class')\n",
        "plt.title('Confusion Matrix')\n",
        "plt.show()"
      ],
      "metadata": {
        "colab": {
          "base_uri": "https://localhost:8080/",
          "height": 718
        },
        "id": "n32szXAX73tB",
        "outputId": "8402c4a5-a8dd-4252-8bc3-ed501d15427b"
      },
      "execution_count": null,
      "outputs": [
        {
          "output_type": "display_data",
          "data": {
            "text/plain": [
              "<Figure size 800x800 with 2 Axes>"
            ],
            "image/png": "[encoded data removed]"
          },
          "metadata": {}
        }
      ]
    },
    {
      "cell_type": "code",
      "source": [
        "from sklearn.metrics import classification_report, confusion_matrix\n",
        "y_pred = model.predict(test_batch)\n",
        "y_pred = np.argmax(y_pred, axis=1)\n",
        "print(classification_report(test_batch.classes, y_pred))"
      ],
      "metadata": {
        "colab": {
          "base_uri": "https://localhost:8080/"
        },
        "id": "7qpTcikZSpx5",
        "outputId": "4ceac0e5-3813-4cf1-9bdd-3df4a4ec226a"
      },
      "execution_count": null,
      "outputs": [
        {
          "output_type": "stream",
          "name": "stdout",
          "text": [
            "6/6 [==============================] - 3s 486ms/step\n",
            "              precision    recall  f1-score   support\n",
            "\n",
            "           0       0.28      0.22      0.25       152\n",
            "           1       0.30      0.21      0.24       156\n",
            "           2       0.23      0.22      0.22       144\n",
            "           3       0.20      0.35      0.26       124\n",
            "\n",
            "    accuracy                           0.24       576\n",
            "   macro avg       0.25      0.25      0.24       576\n",
            "weighted avg       0.26      0.24      0.24       576\n",
            "\n"
          ]
        }
      ]
    },
    {
      "cell_type": "code",
      "source": [
        "# To print the Confusion Matrix\n",
        "cf_matrix = confusion_matrix(test_batch.classes, y_pred)\n",
        "Labels = ['Blast', 'Blight', 'Brownspot', 'Tungro']\n",
        "plt.figure(figsize=(8, 8))\n",
        "heatmap = sns.heatmap(cf_matrix, xticklabels=Labels, yticklabels=Labels, annot=True, fmt='d', color='blue')\n",
        "plt.xlabel('Predicted Class')\n",
        "plt.ylabel('True Class')\n",
        "plt.title('Confusion Matrix')\n",
        "plt.show()"
      ],
      "metadata": {
        "colab": {
          "base_uri": "https://localhost:8080/",
          "height": 718
        },
        "id": "XhYAkmMvS1t6",
        "outputId": "ff9debc0-f8ce-432c-e346-f2ee5ec9d796"
      },
      "execution_count": null,
      "outputs": [
        {
          "output_type": "display_data",
          "data": {
            "text/plain": [
              "<Figure size 800x800 with 2 Axes>"
            ],
            "image/png": "[encoded data removed]"
          },
          "metadata": {}
        }
      ]
    }
  ],
  "metadata": {
    "accelerator": "GPU",
    "colab": {
      "provenance": []
    },
    "gpuClass": "standard",
    "kernelspec": {
      "display_name": "Python 3",
      "name": "python3"
    },
    "language_info": {
      "name": "python"
    }
  },
  "nbformat": 4,
  "nbformat_minor": 0
}